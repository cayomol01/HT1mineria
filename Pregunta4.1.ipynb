{
 "cells": [
  {
   "cell_type": "code",
   "execution_count": 21,
   "id": "4dc8b8d1",
   "metadata": {},
   "outputs": [],
   "source": [
    "## importando pandas\n",
    "import pandas as pd"
   ]
  },
  {
   "cell_type": "code",
   "execution_count": 22,
   "id": "d3c9ed4d",
   "metadata": {},
   "outputs": [],
   "source": [
    "## leyendo el archivo csv\n",
    "datos = pd.read_csv('movies.csv', encoding = \"latin1\")"
   ]
  },
  {
   "cell_type": "code",
   "execution_count": 23,
   "id": "f8d85cce",
   "metadata": {},
   "outputs": [],
   "source": [
    "##¿Cuáles son las 10 películas que contaron con más presupuesto? \n",
    "# Referencia de query de busqueda:https://pandas.pydata.org/docs/reference/api/pandas.DataFrame.sort_values.html\n",
    "busqueda= datos.sort_values(by=\"budget\",ascending = False)"
   ]
  },
  {
   "cell_type": "code",
   "execution_count": 24,
   "id": "8af9156e",
   "metadata": {},
   "outputs": [],
   "source": [
    "index = busqueda.head(10)"
   ]
  },
  {
   "cell_type": "code",
   "execution_count": 25,
   "id": "0f24a745",
   "metadata": {},
   "outputs": [
    {
     "name": "stdout",
     "output_type": "stream",
     "text": [
      "                                            title\n",
      "716   Pirates of the Caribbean: On Stranger Tides\n",
      "4710                      Avengers: Age of Ultron\n",
      "5952                            Avengers: Endgame\n",
      "4953                               Justice League\n",
      "5953                       Avengers: Infinity War\n",
      "163      Pirates of the Caribbean: At World's End\n",
      "607                              Superman Returns\n",
      "7134                                The Lion King\n",
      "3791                                      Tangled\n",
      "280                                  Spider-Man 3\n"
     ]
    }
   ],
   "source": [
    "print(index[['title']])"
   ]
  },
  {
   "cell_type": "code",
   "execution_count": null,
   "id": "3def8508",
   "metadata": {},
   "outputs": [],
   "source": []
  }
 ],
 "metadata": {
  "kernelspec": {
   "display_name": "Python 3",
   "language": "python",
   "name": "python3"
  },
  "language_info": {
   "codemirror_mode": {
    "name": "ipython",
    "version": 3
   },
   "file_extension": ".py",
   "mimetype": "text/x-python",
   "name": "python",
   "nbconvert_exporter": "python",
   "pygments_lexer": "ipython3",
   "version": "3.11.1"
  },
  "vscode": {
   "interpreter": {
    "hash": "e3bd4746ad2010e5dbf8a4fe9c2a5426f0d6e92c70919527462e93d77f556afb"
   }
  }
 },
 "nbformat": 4,
 "nbformat_minor": 5
}

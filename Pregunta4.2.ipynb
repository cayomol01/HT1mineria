{
 "cells": [
  {
   "cell_type": "code",
   "execution_count": 1,
   "id": "dc03b408",
   "metadata": {},
   "outputs": [],
   "source": [
    "## importando pandas\n",
    "import pandas as pd"
   ]
  },
  {
   "cell_type": "code",
   "execution_count": 2,
   "id": "b8392455",
   "metadata": {},
   "outputs": [],
   "source": [
    "## leyendo el archivo csv\n",
    "datos = pd.read_csv('movies.csv', encoding = \"latin1\")"
   ]
  },
  {
   "cell_type": "code",
   "execution_count": 3,
   "id": "3e56b967",
   "metadata": {},
   "outputs": [],
   "source": [
    "# ¿Cuáles son las 10 películas que más ingresos tuvieron? \n",
    "# Referencia de query de busqueda:https://pandas.pydata.org/docs/reference/api/pandas.DataFrame.sort_values.html\n",
    "busqueda= datos.sort_values(by=\"revenue\",ascending = False)"
   ]
  },
  {
   "cell_type": "code",
   "execution_count": 4,
   "id": "1c7533b2",
   "metadata": {},
   "outputs": [],
   "source": [
    "index = busqueda.head(10)"
   ]
  },
  {
   "cell_type": "code",
   "execution_count": 5,
   "id": "92a29815",
   "metadata": {},
   "outputs": [
    {
     "name": "stdout",
     "output_type": "stream",
     "text": [
      "                             title\n",
      "3210                        Avatar\n",
      "5952             Avengers: Endgame\n",
      "307                        Titanic\n",
      "4947  Star Wars: The Force Awakens\n",
      "5953        Avengers: Infinity War\n",
      "4914                Jurassic World\n",
      "7134                 The Lion King\n",
      "9049       Spider-Man: No Way Home\n",
      "3397                  The Avengers\n",
      "5087                     Furious 7\n"
     ]
    }
   ],
   "source": [
    "print(index[['title']])"
   ]
  },
  {
   "cell_type": "code",
   "execution_count": null,
   "id": "d46c1b53",
   "metadata": {},
   "outputs": [],
   "source": []
  }
 ],
 "metadata": {
  "kernelspec": {
   "display_name": "Python 3 (ipykernel)",
   "language": "python",
   "name": "python3"
  },
  "language_info": {
   "codemirror_mode": {
    "name": "ipython",
    "version": 3
   },
   "file_extension": ".py",
   "mimetype": "text/x-python",
   "name": "python",
   "nbconvert_exporter": "python",
   "pygments_lexer": "ipython3",
   "version": "3.11.1"
  },
  "vscode": {
   "interpreter": {
    "hash": "e3bd4746ad2010e5dbf8a4fe9c2a5426f0d6e92c70919527462e93d77f556afb"
   }
  }
 },
 "nbformat": 4,
 "nbformat_minor": 5
}

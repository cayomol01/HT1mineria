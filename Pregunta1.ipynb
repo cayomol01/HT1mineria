{
 "cells": [
  {
   "cell_type": "code",
   "execution_count": 3,
   "id": "ce9c3b8a",
   "metadata": {},
   "outputs": [],
   "source": [
    "## importando pandas\n",
    "import pandas as pd"
   ]
  },
  {
   "cell_type": "code",
   "execution_count": 4,
   "id": "3021cae6",
   "metadata": {},
   "outputs": [],
   "source": [
    "## leyendo el archivo csv\n",
    "datos = pd.read_csv('movies.csv', encoding = \"latin1\")"
   ]
  },
  {
   "cell_type": "code",
   "execution_count": 5,
   "id": "d7f0550f",
   "metadata": {},
   "outputs": [
    {
     "name": "stdout",
     "output_type": "stream",
     "text": [
      "                  id        budget       revenue       runtime    popularity  \\\n",
      "count   10000.000000  1.000000e+04  1.000000e+04  10000.000000  10000.000000   \n",
      "mean   249876.829300  1.855163e+07  5.673793e+07    100.268100     51.393907   \n",
      "std    257380.109004  3.662669e+07  1.495854e+08     27.777829    216.729552   \n",
      "min         5.000000  0.000000e+00  0.000000e+00      0.000000      4.258000   \n",
      "25%     12286.500000  0.000000e+00  0.000000e+00     90.000000     14.577750   \n",
      "50%    152558.000000  5.000000e+05  1.631245e+05    100.000000     21.905500   \n",
      "75%    452021.750000  2.000000e+07  4.479661e+07    113.000000     40.654000   \n",
      "max    922260.000000  3.800000e+08  2.847246e+09    750.000000  11474.647000   \n",
      "\n",
      "            voteAvg     voteCount  genresAmount  productionCoAmount  \\\n",
      "count  10000.000000  10000.000000  10000.000000        10000.000000   \n",
      "mean       6.483490   1342.381800      2.596500            3.171400   \n",
      "std        0.984274   2564.196637      1.154565            2.539738   \n",
      "min        1.300000      1.000000      0.000000            0.000000   \n",
      "25%        5.900000    120.000000      2.000000            2.000000   \n",
      "50%        6.500000    415.000000      3.000000            3.000000   \n",
      "75%        7.200000   1316.000000      3.000000            4.000000   \n",
      "max       10.000000  30788.000000     16.000000           89.000000   \n",
      "\n",
      "       productionCountriesAmount   actorsAmount  \n",
      "count               10000.000000   10000.000000  \n",
      "mean                    1.751000    2147.666600  \n",
      "std                     3.012093   37200.075802  \n",
      "min                     0.000000       0.000000  \n",
      "25%                     1.000000      13.000000  \n",
      "50%                     1.000000      21.000000  \n",
      "75%                     2.000000      36.000000  \n",
      "max                   155.000000  919590.000000  \n"
     ]
    }
   ],
   "source": [
    "##imprimiendo el resumen de los datos \n",
    "##Haga una exploración rápida de sus datos, para eso haga un resumen de su conjunto de datos. \n",
    "print(datos.describe())"
   ]
  },
  {
   "cell_type": "code",
   "execution_count": null,
   "id": "6180f616",
   "metadata": {},
   "outputs": [],
   "source": []
  }
 ],
 "metadata": {
  "kernelspec": {
   "display_name": "Python 3",
   "language": "python",
   "name": "python3"
  },
  "language_info": {
   "codemirror_mode": {
    "name": "ipython",
    "version": 3
   },
   "file_extension": ".py",
   "mimetype": "text/x-python",
   "name": "python",
   "nbconvert_exporter": "python",
   "pygments_lexer": "ipython3",
   "version": "3.11.1"
  },
  "vscode": {
   "interpreter": {
    "hash": "e3bd4746ad2010e5dbf8a4fe9c2a5426f0d6e92c70919527462e93d77f556afb"
   }
  }
 },
 "nbformat": 4,
 "nbformat_minor": 5
}

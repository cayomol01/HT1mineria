{
 "cells": [
  {
   "cell_type": "code",
   "execution_count": 1,
   "id": "719b6d8a",
   "metadata": {},
   "outputs": [],
   "source": [
    "## importando pandas\n",
    "import pandas as pd"
   ]
  },
  {
   "cell_type": "code",
   "execution_count": 2,
   "id": "5ae9eaa7",
   "metadata": {},
   "outputs": [],
   "source": [
    "## leyendo el archivo csv\n",
    "datos = pd.read_csv('movies.csv', encoding = \"latin1\")"
   ]
  },
  {
   "cell_type": "code",
   "execution_count": 3,
   "id": "d57e9e84",
   "metadata": {},
   "outputs": [],
   "source": [
    "# ¿Cuáles son las 10 películas que más ingresos tuvieron? \n",
    "# Referencia de query de busqueda:https://pandas.pydata.org/docs/reference/api/pandas.DataFrame.sort_values.html\n",
    "busqueda= datos.sort_values(by=\"voteCount\",ascending = False)"
   ]
  },
  {
   "cell_type": "code",
   "execution_count": 5,
   "id": "ef51b0b3",
   "metadata": {},
   "outputs": [],
   "source": [
    "## Referencia: https://pandas.pydata.org/docs/reference/api/pandas.DataFrame.iloc.html\n",
    "index = busqueda.iloc[0]"
   ]
  },
  {
   "cell_type": "code",
   "execution_count": 6,
   "id": "29b8370b",
   "metadata": {},
   "outputs": [
    {
     "name": "stdout",
     "output_type": "stream",
     "text": [
      "title    Inception\n",
      "Name: 3511, dtype: object\n"
     ]
    }
   ],
   "source": [
    "print(index[['title']])"
   ]
  },
  {
   "cell_type": "code",
   "execution_count": null,
   "id": "93372690",
   "metadata": {},
   "outputs": [],
   "source": []
  }
 ],
 "metadata": {
  "kernelspec": {
   "display_name": "Python 3 (ipykernel)",
   "language": "python",
   "name": "python3"
  },
  "language_info": {
   "codemirror_mode": {
    "name": "ipython",
    "version": 3
   },
   "file_extension": ".py",
   "mimetype": "text/x-python",
   "name": "python",
   "nbconvert_exporter": "python",
   "pygments_lexer": "ipython3",
   "version": "3.11.1"
  }
 },
 "nbformat": 4,
 "nbformat_minor": 5
}
